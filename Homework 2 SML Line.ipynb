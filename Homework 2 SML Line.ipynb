{
 "cells": [
  {
   "cell_type": "markdown",
   "metadata": {},
   "source": [
    "**Requirment**\n",
    "\n",
    "Market_Portfolio.xlsx contains monthly nominal (net) returns for the market portfolio, expressed as a percentage. These returns cover the ten-year period from Jan 2004 through Dec 2013.\n",
    "\n",
    "Assume that the risk-free rate is 0.13% per month. Regress the monthly excess returns for each of the ten `industry portfolios` on the monthly excess returns for the `market portfolio`, so as to estimate the intercept coefficient (alpha) and slope coefficient (beta) for each of the ten industry portfolios. Create a table showing the intercept and slope coefficients for the ten industry portfolios. Briefly explain the economic significance of the intercept and slope coefficients.\n",
    "\n",
    "Calculate the mean monthly return for each of the ten industry portfolios, as well as the market portfolio. Regress the mean monthly returns of the ten industry portfolios and the market portfolio on the corresponding betas (by construction, the market portfolio has beta of one). This will give you the slope and intercept coefficients for the SML. (Warning: the results may be very different from what you would expect!)\n",
    "\n",
    "Using the estimated slope and intercept coefficients, plot the SML in the range of beta from zero to two on the horizontal axis. Also plot the positions of the ten industry portfolios and the market portfolio. (You are NOT required to label the individual portfolios.) Briefly explain the economic significance of the SML.\n",
    "\n",
    "Please submit your results and programming code, as (uncompressed) MS Word or Adobe PDF, to the submission folder for Homework 2 before 7 pm on Wednesday, 28 October."
   ]
  },
  {
   "cell_type": "code",
   "execution_count": 2,
   "metadata": {},
   "outputs": [],
   "source": [
    "import pandas as pd\n",
    "import numpy as np\n",
    "import matplotlib.pyplot as plt\n",
    "from scipy import stats\n",
    "%matplotlib inline"
   ]
  },
  {
   "cell_type": "code",
   "execution_count": 3,
   "metadata": {},
   "outputs": [],
   "source": [
    "Rf = 0.13"
   ]
  },
  {
   "cell_type": "code",
   "execution_count": 4,
   "metadata": {},
   "outputs": [],
   "source": [
    "df_1 = pd.read_excel(\"Industry_Portfolios.xlsx\").set_index(\"Date\")\n",
    "df_2 = pd.read_excel(\"Market_Portfolio.xlsx\").set_index(\"Date\")\n",
    "df = pd.merge(df_1,df_2,left_index=True, right_index=True)-Rf"
   ]
  },
  {
   "cell_type": "code",
   "execution_count": 5,
   "metadata": {},
   "outputs": [
    {
     "data": {
      "text/html": [
       "<div>\n",
       "<style scoped>\n",
       "    .dataframe tbody tr th:only-of-type {\n",
       "        vertical-align: middle;\n",
       "    }\n",
       "\n",
       "    .dataframe tbody tr th {\n",
       "        vertical-align: top;\n",
       "    }\n",
       "\n",
       "    .dataframe thead th {\n",
       "        text-align: right;\n",
       "    }\n",
       "</style>\n",
       "<table border=\"1\" class=\"dataframe\">\n",
       "  <thead>\n",
       "    <tr style=\"text-align: right;\">\n",
       "      <th></th>\n",
       "      <th>NoDur</th>\n",
       "      <th>Durbl</th>\n",
       "      <th>Manuf</th>\n",
       "      <th>Enrgy</th>\n",
       "      <th>HiTec</th>\n",
       "      <th>Telcm</th>\n",
       "      <th>Shops</th>\n",
       "      <th>Hlth</th>\n",
       "      <th>Utils</th>\n",
       "      <th>Other</th>\n",
       "      <th>Market</th>\n",
       "    </tr>\n",
       "    <tr>\n",
       "      <th>Date</th>\n",
       "      <th></th>\n",
       "      <th></th>\n",
       "      <th></th>\n",
       "      <th></th>\n",
       "      <th></th>\n",
       "      <th></th>\n",
       "      <th></th>\n",
       "      <th></th>\n",
       "      <th></th>\n",
       "      <th></th>\n",
       "      <th></th>\n",
       "    </tr>\n",
       "  </thead>\n",
       "  <tbody>\n",
       "    <tr>\n",
       "      <th>200401</th>\n",
       "      <td>-0.07</td>\n",
       "      <td>-1.20</td>\n",
       "      <td>-0.75</td>\n",
       "      <td>0.31</td>\n",
       "      <td>4.40</td>\n",
       "      <td>1.28</td>\n",
       "      <td>0.32</td>\n",
       "      <td>2.96</td>\n",
       "      <td>1.79</td>\n",
       "      <td>2.75</td>\n",
       "      <td>2.09</td>\n",
       "    </tr>\n",
       "    <tr>\n",
       "      <th>200402</th>\n",
       "      <td>4.12</td>\n",
       "      <td>-0.20</td>\n",
       "      <td>1.82</td>\n",
       "      <td>4.56</td>\n",
       "      <td>-3.05</td>\n",
       "      <td>-0.65</td>\n",
       "      <td>5.96</td>\n",
       "      <td>0.76</td>\n",
       "      <td>1.94</td>\n",
       "      <td>2.03</td>\n",
       "      <td>1.33</td>\n",
       "    </tr>\n",
       "    <tr>\n",
       "      <th>200403</th>\n",
       "      <td>-0.22</td>\n",
       "      <td>-1.28</td>\n",
       "      <td>-0.40</td>\n",
       "      <td>-0.26</td>\n",
       "      <td>-2.68</td>\n",
       "      <td>-2.20</td>\n",
       "      <td>0.16</td>\n",
       "      <td>-4.09</td>\n",
       "      <td>1.00</td>\n",
       "      <td>-0.76</td>\n",
       "      <td>-1.36</td>\n",
       "    </tr>\n",
       "    <tr>\n",
       "      <th>200404</th>\n",
       "      <td>1.29</td>\n",
       "      <td>2.17</td>\n",
       "      <td>-0.30</td>\n",
       "      <td>2.39</td>\n",
       "      <td>-5.04</td>\n",
       "      <td>-0.61</td>\n",
       "      <td>-2.83</td>\n",
       "      <td>3.41</td>\n",
       "      <td>-3.68</td>\n",
       "      <td>-3.89</td>\n",
       "      <td>-1.88</td>\n",
       "    </tr>\n",
       "    <tr>\n",
       "      <th>200405</th>\n",
       "      <td>-2.02</td>\n",
       "      <td>-1.77</td>\n",
       "      <td>1.48</td>\n",
       "      <td>0.26</td>\n",
       "      <td>4.72</td>\n",
       "      <td>-3.08</td>\n",
       "      <td>0.17</td>\n",
       "      <td>-0.55</td>\n",
       "      <td>1.15</td>\n",
       "      <td>1.73</td>\n",
       "      <td>1.10</td>\n",
       "    </tr>\n",
       "  </tbody>\n",
       "</table>\n",
       "</div>"
      ],
      "text/plain": [
       "        NoDur  Durbl  Manuf  Enrgy  HiTec  Telcm  Shops  Hlth  Utils  Other  \\\n",
       "Date                                                                          \n",
       "200401  -0.07  -1.20  -0.75   0.31   4.40   1.28   0.32  2.96   1.79   2.75   \n",
       "200402   4.12  -0.20   1.82   4.56  -3.05  -0.65   5.96  0.76   1.94   2.03   \n",
       "200403  -0.22  -1.28  -0.40  -0.26  -2.68  -2.20   0.16 -4.09   1.00  -0.76   \n",
       "200404   1.29   2.17  -0.30   2.39  -5.04  -0.61  -2.83  3.41  -3.68  -3.89   \n",
       "200405  -2.02  -1.77   1.48   0.26   4.72  -3.08   0.17 -0.55   1.15   1.73   \n",
       "\n",
       "        Market  \n",
       "Date            \n",
       "200401    2.09  \n",
       "200402    1.33  \n",
       "200403   -1.36  \n",
       "200404   -1.88  \n",
       "200405    1.10  "
      ]
     },
     "execution_count": 5,
     "metadata": {},
     "output_type": "execute_result"
    }
   ],
   "source": [
    "df.head()"
   ]
  },
  {
   "cell_type": "code",
   "execution_count": null,
   "metadata": {},
   "outputs": [],
   "source": []
  },
  {
   "cell_type": "markdown",
   "metadata": {},
   "source": [
    "**Method 1. Using OLS Method**"
   ]
  },
  {
   "cell_type": "code",
   "execution_count": 6,
   "metadata": {},
   "outputs": [],
   "source": [
    "import statsmodels.api as sm"
   ]
  },
  {
   "cell_type": "code",
   "execution_count": 15,
   "metadata": {},
   "outputs": [],
   "source": [
    "results_list = []\n",
    "x = df['Market'] # Market Premium (Rm - Rf)\n",
    "x = sm.add_constant(x)\n",
    "for i in np.arange(10):\n",
    "    y = df.iloc[:,i] # Excess Return (Ri - Rf)\n",
    "    results = sm.OLS(y,x).fit()\n",
    "    results_list.append(results.params)"
   ]
  },
  {
   "cell_type": "code",
   "execution_count": 32,
   "metadata": {},
   "outputs": [],
   "source": [
    "abc = pd.DataFrame(results_list).set_index(df.columns[:-1])\n",
    "abc.rename(columns = {\"Market\":\"Slope(β)\", \"const\":\"Interecept(α)\"}, inplace = True)"
   ]
  },
  {
   "cell_type": "code",
   "execution_count": 33,
   "metadata": {},
   "outputs": [
    {
     "data": {
      "text/html": [
       "<div>\n",
       "<style scoped>\n",
       "    .dataframe tbody tr th:only-of-type {\n",
       "        vertical-align: middle;\n",
       "    }\n",
       "\n",
       "    .dataframe tbody tr th {\n",
       "        vertical-align: top;\n",
       "    }\n",
       "\n",
       "    .dataframe thead th {\n",
       "        text-align: right;\n",
       "    }\n",
       "</style>\n",
       "<table border=\"1\" class=\"dataframe\">\n",
       "  <thead>\n",
       "    <tr style=\"text-align: right;\">\n",
       "      <th></th>\n",
       "      <th>Interecept(α)</th>\n",
       "      <th>Slope(β)</th>\n",
       "    </tr>\n",
       "  </thead>\n",
       "  <tbody>\n",
       "    <tr>\n",
       "      <th>NoDur</th>\n",
       "      <td>0.369443</td>\n",
       "      <td>0.652647</td>\n",
       "    </tr>\n",
       "    <tr>\n",
       "      <th>Durbl</th>\n",
       "      <td>-0.415599</td>\n",
       "      <td>1.648536</td>\n",
       "    </tr>\n",
       "    <tr>\n",
       "      <th>Manuf</th>\n",
       "      <td>0.159771</td>\n",
       "      <td>1.169846</td>\n",
       "    </tr>\n",
       "    <tr>\n",
       "      <th>Enrgy</th>\n",
       "      <td>0.501719</td>\n",
       "      <td>0.969850</td>\n",
       "    </tr>\n",
       "    <tr>\n",
       "      <th>HiTec</th>\n",
       "      <td>-0.064020</td>\n",
       "      <td>1.132969</td>\n",
       "    </tr>\n",
       "    <tr>\n",
       "      <th>Telcm</th>\n",
       "      <td>0.194691</td>\n",
       "      <td>0.900729</td>\n",
       "    </tr>\n",
       "    <tr>\n",
       "      <th>Shops</th>\n",
       "      <td>0.275492</td>\n",
       "      <td>0.826492</td>\n",
       "    </tr>\n",
       "    <tr>\n",
       "      <th>Hlth</th>\n",
       "      <td>0.237841</td>\n",
       "      <td>0.673036</td>\n",
       "    </tr>\n",
       "    <tr>\n",
       "      <th>Utils</th>\n",
       "      <td>0.444585</td>\n",
       "      <td>0.538086</td>\n",
       "    </tr>\n",
       "    <tr>\n",
       "      <th>Other</th>\n",
       "      <td>-0.387135</td>\n",
       "      <td>1.207309</td>\n",
       "    </tr>\n",
       "  </tbody>\n",
       "</table>\n",
       "</div>"
      ],
      "text/plain": [
       "       Interecept(α)  Slope(β)\n",
       "NoDur       0.369443  0.652647\n",
       "Durbl      -0.415599  1.648536\n",
       "Manuf       0.159771  1.169846\n",
       "Enrgy       0.501719  0.969850\n",
       "HiTec      -0.064020  1.132969\n",
       "Telcm       0.194691  0.900729\n",
       "Shops       0.275492  0.826492\n",
       "Hlth        0.237841  0.673036\n",
       "Utils       0.444585  0.538086\n",
       "Other      -0.387135  1.207309"
      ]
     },
     "execution_count": 33,
     "metadata": {},
     "output_type": "execute_result"
    }
   ],
   "source": [
    "abc"
   ]
  },
  {
   "cell_type": "markdown",
   "metadata": {},
   "source": [
    "**Method 2. Using scipy Method**"
   ]
  },
  {
   "cell_type": "code",
   "execution_count": 7,
   "metadata": {
    "scrolled": false
   },
   "outputs": [],
   "source": [
    "#Run the regression parameter of 10 portfolio against market portfolio\n",
    "slope = []\n",
    "intercept = []\n",
    "for i in np.arange(11):\n",
    "    r = stats.linregress(df[\"Market\"],df.iloc[:,i])\n",
    "    slope.append(r.slope)\n",
    "    intercept.append(r.intercept)"
   ]
  },
  {
   "cell_type": "code",
   "execution_count": 8,
   "metadata": {},
   "outputs": [
    {
     "data": {
      "text/html": [
       "<div>\n",
       "<style scoped>\n",
       "    .dataframe tbody tr th:only-of-type {\n",
       "        vertical-align: middle;\n",
       "    }\n",
       "\n",
       "    .dataframe tbody tr th {\n",
       "        vertical-align: top;\n",
       "    }\n",
       "\n",
       "    .dataframe thead th {\n",
       "        text-align: right;\n",
       "    }\n",
       "</style>\n",
       "<table border=\"1\" class=\"dataframe\">\n",
       "  <thead>\n",
       "    <tr style=\"text-align: right;\">\n",
       "      <th></th>\n",
       "      <th>Slope (β)</th>\n",
       "      <th>Intercept (α)</th>\n",
       "    </tr>\n",
       "  </thead>\n",
       "  <tbody>\n",
       "    <tr>\n",
       "      <th>NoDur</th>\n",
       "      <td>0.652647</td>\n",
       "      <td>0.369443</td>\n",
       "    </tr>\n",
       "    <tr>\n",
       "      <th>Durbl</th>\n",
       "      <td>1.648536</td>\n",
       "      <td>-0.415599</td>\n",
       "    </tr>\n",
       "    <tr>\n",
       "      <th>Manuf</th>\n",
       "      <td>1.169846</td>\n",
       "      <td>0.159771</td>\n",
       "    </tr>\n",
       "    <tr>\n",
       "      <th>Enrgy</th>\n",
       "      <td>0.969850</td>\n",
       "      <td>0.501719</td>\n",
       "    </tr>\n",
       "    <tr>\n",
       "      <th>HiTec</th>\n",
       "      <td>1.132969</td>\n",
       "      <td>-0.064020</td>\n",
       "    </tr>\n",
       "    <tr>\n",
       "      <th>Telcm</th>\n",
       "      <td>0.900729</td>\n",
       "      <td>0.194691</td>\n",
       "    </tr>\n",
       "    <tr>\n",
       "      <th>Shops</th>\n",
       "      <td>0.826492</td>\n",
       "      <td>0.275492</td>\n",
       "    </tr>\n",
       "    <tr>\n",
       "      <th>Hlth</th>\n",
       "      <td>0.673036</td>\n",
       "      <td>0.237841</td>\n",
       "    </tr>\n",
       "    <tr>\n",
       "      <th>Utils</th>\n",
       "      <td>0.538086</td>\n",
       "      <td>0.444585</td>\n",
       "    </tr>\n",
       "    <tr>\n",
       "      <th>Other</th>\n",
       "      <td>1.207309</td>\n",
       "      <td>-0.387135</td>\n",
       "    </tr>\n",
       "    <tr>\n",
       "      <th>Market</th>\n",
       "      <td>1.000000</td>\n",
       "      <td>0.000000</td>\n",
       "    </tr>\n",
       "  </tbody>\n",
       "</table>\n",
       "</div>"
      ],
      "text/plain": [
       "        Slope (β)  Intercept (α)\n",
       "NoDur    0.652647       0.369443\n",
       "Durbl    1.648536      -0.415599\n",
       "Manuf    1.169846       0.159771\n",
       "Enrgy    0.969850       0.501719\n",
       "HiTec    1.132969      -0.064020\n",
       "Telcm    0.900729       0.194691\n",
       "Shops    0.826492       0.275492\n",
       "Hlth     0.673036       0.237841\n",
       "Utils    0.538086       0.444585\n",
       "Other    1.207309      -0.387135\n",
       "Market   1.000000       0.000000"
      ]
     },
     "execution_count": 8,
     "metadata": {},
     "output_type": "execute_result"
    }
   ],
   "source": [
    "#Intercept and slope coefficients for the ten industry portfolios\n",
    "slope_and_intercept = pd.DataFrame([slope, intercept], index =[\"Slope (β)\",\"Intercept (α)\"]).T.set_index(df.columns[:])\n",
    "slope_and_intercept"
   ]
  },
  {
   "cell_type": "code",
   "execution_count": 9,
   "metadata": {},
   "outputs": [
    {
     "data": {
      "text/html": [
       "<div>\n",
       "<style scoped>\n",
       "    .dataframe tbody tr th:only-of-type {\n",
       "        vertical-align: middle;\n",
       "    }\n",
       "\n",
       "    .dataframe tbody tr th {\n",
       "        vertical-align: top;\n",
       "    }\n",
       "\n",
       "    .dataframe thead th {\n",
       "        text-align: right;\n",
       "    }\n",
       "</style>\n",
       "<table border=\"1\" class=\"dataframe\">\n",
       "  <thead>\n",
       "    <tr style=\"text-align: right;\">\n",
       "      <th></th>\n",
       "      <th>Average Monthly Return</th>\n",
       "    </tr>\n",
       "  </thead>\n",
       "  <tbody>\n",
       "    <tr>\n",
       "      <th>NoDur</th>\n",
       "      <td>0.902833</td>\n",
       "    </tr>\n",
       "    <tr>\n",
       "      <th>Durbl</th>\n",
       "      <td>0.733333</td>\n",
       "    </tr>\n",
       "    <tr>\n",
       "      <th>Manuf</th>\n",
       "      <td>1.012833</td>\n",
       "    </tr>\n",
       "    <tr>\n",
       "      <th>Enrgy</th>\n",
       "      <td>1.231167</td>\n",
       "    </tr>\n",
       "    <tr>\n",
       "      <th>HiTec</th>\n",
       "      <td>0.766250</td>\n",
       "    </tr>\n",
       "    <tr>\n",
       "      <th>Telcm</th>\n",
       "      <td>0.881417</td>\n",
       "    </tr>\n",
       "    <tr>\n",
       "      <th>Shops</th>\n",
       "      <td>0.916333</td>\n",
       "    </tr>\n",
       "    <tr>\n",
       "      <th>Hlth</th>\n",
       "      <td>0.783833</td>\n",
       "    </tr>\n",
       "    <tr>\n",
       "      <th>Utils</th>\n",
       "      <td>0.907167</td>\n",
       "    </tr>\n",
       "    <tr>\n",
       "      <th>Other</th>\n",
       "      <td>0.489083</td>\n",
       "    </tr>\n",
       "    <tr>\n",
       "      <th>Market</th>\n",
       "      <td>0.748083</td>\n",
       "    </tr>\n",
       "  </tbody>\n",
       "</table>\n",
       "</div>"
      ],
      "text/plain": [
       "        Average Monthly Return\n",
       "NoDur                 0.902833\n",
       "Durbl                 0.733333\n",
       "Manuf                 1.012833\n",
       "Enrgy                 1.231167\n",
       "HiTec                 0.766250\n",
       "Telcm                 0.881417\n",
       "Shops                 0.916333\n",
       "Hlth                  0.783833\n",
       "Utils                 0.907167\n",
       "Other                 0.489083\n",
       "Market                0.748083"
      ]
     },
     "execution_count": 9,
     "metadata": {},
     "output_type": "execute_result"
    }
   ],
   "source": [
    "#Calculate the Mean Monthly Return of 10 portfolio and Market portfolio\n",
    "mean_return = pd.DataFrame(df.mean()+Rf,columns = ['Average Monthly Return'])\n",
    "mean_return"
   ]
  },
  {
   "cell_type": "code",
   "execution_count": 10,
   "metadata": {},
   "outputs": [
    {
     "name": "stdout",
     "output_type": "stream",
     "text": [
      "1.0327683682657058 -0.18546745836573256\n"
     ]
    }
   ],
   "source": [
    "# perform regression to evaluate parameter SML\n",
    "SML = stats.linregress(slope_and_intercept.iloc[:,0],mean_return.iloc[:,0])\n",
    "SML_intercept = SML.intercept\n",
    "SML_slope = SML.slope\n",
    "print(SML_intercept, SML_slope)"
   ]
  },
  {
   "cell_type": "code",
   "execution_count": 11,
   "metadata": {},
   "outputs": [],
   "source": [
    "x_list = list(np.arange(3))\n",
    "y_list = []\n",
    "for x in x_list:\n",
    "    # y = \n",
    "    y = SML_intercept + x * SML_slope\n",
    "    y_list.append(y)"
   ]
  },
  {
   "cell_type": "code",
   "execution_count": 12,
   "metadata": {},
   "outputs": [
    {
     "data": {
      "image/png": "[encoded data removed]",
      "text/plain": [
       "<Figure size 864x432 with 1 Axes>"
      ]
     },
     "metadata": {
      "needs_background": "light"
     },
     "output_type": "display_data"
    }
   ],
   "source": [
    "plt.figure(figsize = (12,6))\n",
    "\n",
    "plt.scatter(slope_and_intercept.iloc[:,0], mean_return.iloc[:,0])\n",
    "plt.scatter(1,mean_return.iloc[-1,0], color = \"red\", label=(\"Market Portfolio\"))\n",
    "plt.plot(x_list , y_list, label =(\"SML\"))\n",
    "\n",
    "plt.title(\"SML\", fontsize = 20)\n",
    "plt.ylabel(\"Mean Monthly Return\", fontsize = 20)\n",
    "plt.xlabel(\"Beta\", fontsize = 20)\n",
    "\n",
    "plt.legend()\n",
    "plt.grid()\n",
    "plt.show()"
   ]
  },
  {
   "cell_type": "code",
   "execution_count": 13,
   "metadata": {},
   "outputs": [],
   "source": [
    "x_list = list(np.arange(3))\n",
    "y_list = []\n",
    "for x in x_list:\n",
    "    # y = \n",
    "    y = 0.13 + x * (mean_return.iloc[-1,0]-0.13)\n",
    "    y_list.append(y)"
   ]
  },
  {
   "cell_type": "code",
   "execution_count": 14,
   "metadata": {},
   "outputs": [
    {
     "data": {
      "image/png": "[encoded data removed]",
      "text/plain": [
       "<Figure size 864x432 with 1 Axes>"
      ]
     },
     "metadata": {
      "needs_background": "light"
     },
     "output_type": "display_data"
    }
   ],
   "source": [
    "plt.figure(figsize = (12,6))\n",
    "\n",
    "plt.scatter(slope_and_intercept.iloc[:,0], mean_return.iloc[:,0])\n",
    "plt.plot(x_list, y_list)\n",
    "plt.scatter(1,mean_return.iloc[-1,0], color = \"red\", label=(\"Market Portfolio\"))\n",
    "\n",
    "plt.title(\"SML\", fontsize = 20)\n",
    "plt.ylabel(\"Mean Monthly Return\", fontsize = 20)\n",
    "plt.xlabel(\"Beta\", fontsize = 20)\n",
    "\n",
    "plt.legend()\n",
    "plt.grid()\n",
    "plt.show()"
   ]
  },
  {
   "cell_type": "code",
   "execution_count": null,
   "metadata": {},
   "outputs": [],
   "source": []
  }
 ],
 "metadata": {
  "kernelspec": {
   "display_name": "Python 3",
   "language": "python",
   "name": "python3"
  },
  "language_info": {
   "codemirror_mode": {
    "name": "ipython",
    "version": 3
   },
   "file_extension": ".py",
   "mimetype": "text/x-python",
   "name": "python",
   "nbconvert_exporter": "python",
   "pygments_lexer": "ipython3",
   "version": "3.8.3"
  }
 },
 "nbformat": 4,
 "nbformat_minor": 4
}
