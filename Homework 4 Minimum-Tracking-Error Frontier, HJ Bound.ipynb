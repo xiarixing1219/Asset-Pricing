{
 "cells": [
  {
   "cell_type": "code",
   "execution_count": 1,
   "metadata": {},
   "outputs": [],
   "source": [
    "import numpy as np\n",
    "import pandas as pd\n",
    "import matplotlib.pyplot as plt\n",
    "%matplotlib inline"
   ]
  },
  {
   "cell_type": "markdown",
   "metadata": {},
   "source": [
    "### Part 1: Minimum-Tracking-Error Frontier"
   ]
  },
  {
   "cell_type": "code",
   "execution_count": 2,
   "metadata": {},
   "outputs": [],
   "source": [
    "df_1 = pd.read_excel(\"Industry_Portfolios.xlsx\").set_index(\"Date\")\n",
    "df_2 = pd.read_excel(\"Market_Portfolio.xlsx\").set_index(\"Date\")\n",
    "df = pd.merge(df_1,df_2,left_index=True, right_index=True)"
   ]
  },
  {
   "cell_type": "code",
   "execution_count": 3,
   "metadata": {},
   "outputs": [
    {
     "data": {
      "text/html": [
       "<div>\n",
       "<style scoped>\n",
       "    .dataframe tbody tr th:only-of-type {\n",
       "        vertical-align: middle;\n",
       "    }\n",
       "\n",
       "    .dataframe tbody tr th {\n",
       "        vertical-align: top;\n",
       "    }\n",
       "\n",
       "    .dataframe thead th {\n",
       "        text-align: right;\n",
       "    }\n",
       "</style>\n",
       "<table border=\"1\" class=\"dataframe\">\n",
       "  <thead>\n",
       "    <tr style=\"text-align: right;\">\n",
       "      <th></th>\n",
       "      <th>NoDur</th>\n",
       "      <th>Durbl</th>\n",
       "      <th>Manuf</th>\n",
       "      <th>Enrgy</th>\n",
       "      <th>HiTec</th>\n",
       "      <th>Telcm</th>\n",
       "      <th>Shops</th>\n",
       "      <th>Hlth</th>\n",
       "      <th>Utils</th>\n",
       "      <th>Other</th>\n",
       "      <th>Market</th>\n",
       "    </tr>\n",
       "    <tr>\n",
       "      <th>Date</th>\n",
       "      <th></th>\n",
       "      <th></th>\n",
       "      <th></th>\n",
       "      <th></th>\n",
       "      <th></th>\n",
       "      <th></th>\n",
       "      <th></th>\n",
       "      <th></th>\n",
       "      <th></th>\n",
       "      <th></th>\n",
       "      <th></th>\n",
       "    </tr>\n",
       "  </thead>\n",
       "  <tbody>\n",
       "    <tr>\n",
       "      <th>200401</th>\n",
       "      <td>0.06</td>\n",
       "      <td>-1.07</td>\n",
       "      <td>-0.62</td>\n",
       "      <td>0.44</td>\n",
       "      <td>4.53</td>\n",
       "      <td>1.41</td>\n",
       "      <td>0.45</td>\n",
       "      <td>3.09</td>\n",
       "      <td>1.92</td>\n",
       "      <td>2.88</td>\n",
       "      <td>2.22</td>\n",
       "    </tr>\n",
       "    <tr>\n",
       "      <th>200402</th>\n",
       "      <td>4.25</td>\n",
       "      <td>-0.07</td>\n",
       "      <td>1.95</td>\n",
       "      <td>4.69</td>\n",
       "      <td>-2.92</td>\n",
       "      <td>-0.52</td>\n",
       "      <td>6.09</td>\n",
       "      <td>0.89</td>\n",
       "      <td>2.07</td>\n",
       "      <td>2.16</td>\n",
       "      <td>1.46</td>\n",
       "    </tr>\n",
       "    <tr>\n",
       "      <th>200403</th>\n",
       "      <td>-0.09</td>\n",
       "      <td>-1.15</td>\n",
       "      <td>-0.27</td>\n",
       "      <td>-0.13</td>\n",
       "      <td>-2.55</td>\n",
       "      <td>-2.07</td>\n",
       "      <td>0.29</td>\n",
       "      <td>-3.96</td>\n",
       "      <td>1.13</td>\n",
       "      <td>-0.63</td>\n",
       "      <td>-1.23</td>\n",
       "    </tr>\n",
       "    <tr>\n",
       "      <th>200404</th>\n",
       "      <td>1.42</td>\n",
       "      <td>2.30</td>\n",
       "      <td>-0.17</td>\n",
       "      <td>2.52</td>\n",
       "      <td>-4.91</td>\n",
       "      <td>-0.48</td>\n",
       "      <td>-2.70</td>\n",
       "      <td>3.54</td>\n",
       "      <td>-3.55</td>\n",
       "      <td>-3.76</td>\n",
       "      <td>-1.75</td>\n",
       "    </tr>\n",
       "    <tr>\n",
       "      <th>200405</th>\n",
       "      <td>-1.89</td>\n",
       "      <td>-1.64</td>\n",
       "      <td>1.61</td>\n",
       "      <td>0.39</td>\n",
       "      <td>4.85</td>\n",
       "      <td>-2.95</td>\n",
       "      <td>0.30</td>\n",
       "      <td>-0.42</td>\n",
       "      <td>1.28</td>\n",
       "      <td>1.86</td>\n",
       "      <td>1.23</td>\n",
       "    </tr>\n",
       "    <tr>\n",
       "      <th>...</th>\n",
       "      <td>...</td>\n",
       "      <td>...</td>\n",
       "      <td>...</td>\n",
       "      <td>...</td>\n",
       "      <td>...</td>\n",
       "      <td>...</td>\n",
       "      <td>...</td>\n",
       "      <td>...</td>\n",
       "      <td>...</td>\n",
       "      <td>...</td>\n",
       "      <td>...</td>\n",
       "    </tr>\n",
       "    <tr>\n",
       "      <th>201308</th>\n",
       "      <td>-4.00</td>\n",
       "      <td>-1.00</td>\n",
       "      <td>-1.95</td>\n",
       "      <td>-1.83</td>\n",
       "      <td>-0.12</td>\n",
       "      <td>-3.28</td>\n",
       "      <td>-4.21</td>\n",
       "      <td>-3.49</td>\n",
       "      <td>-4.43</td>\n",
       "      <td>-3.66</td>\n",
       "      <td>-2.69</td>\n",
       "    </tr>\n",
       "    <tr>\n",
       "      <th>201309</th>\n",
       "      <td>1.94</td>\n",
       "      <td>6.46</td>\n",
       "      <td>5.20</td>\n",
       "      <td>2.03</td>\n",
       "      <td>3.77</td>\n",
       "      <td>4.33</td>\n",
       "      <td>4.46</td>\n",
       "      <td>4.19</td>\n",
       "      <td>1.05</td>\n",
       "      <td>3.83</td>\n",
       "      <td>3.76</td>\n",
       "    </tr>\n",
       "    <tr>\n",
       "      <th>201310</th>\n",
       "      <td>4.75</td>\n",
       "      <td>0.72</td>\n",
       "      <td>4.56</td>\n",
       "      <td>4.86</td>\n",
       "      <td>3.80</td>\n",
       "      <td>5.52</td>\n",
       "      <td>5.08</td>\n",
       "      <td>3.47</td>\n",
       "      <td>3.35</td>\n",
       "      <td>3.87</td>\n",
       "      <td>4.17</td>\n",
       "    </tr>\n",
       "    <tr>\n",
       "      <th>201311</th>\n",
       "      <td>1.29</td>\n",
       "      <td>1.81</td>\n",
       "      <td>2.95</td>\n",
       "      <td>0.85</td>\n",
       "      <td>3.65</td>\n",
       "      <td>0.27</td>\n",
       "      <td>3.67</td>\n",
       "      <td>4.54</td>\n",
       "      <td>-1.81</td>\n",
       "      <td>4.74</td>\n",
       "      <td>3.12</td>\n",
       "    </tr>\n",
       "    <tr>\n",
       "      <th>201312</th>\n",
       "      <td>2.65</td>\n",
       "      <td>1.18</td>\n",
       "      <td>3.13</td>\n",
       "      <td>2.95</td>\n",
       "      <td>4.04</td>\n",
       "      <td>3.96</td>\n",
       "      <td>0.20</td>\n",
       "      <td>0.71</td>\n",
       "      <td>1.79</td>\n",
       "      <td>3.11</td>\n",
       "      <td>2.81</td>\n",
       "    </tr>\n",
       "  </tbody>\n",
       "</table>\n",
       "<p>120 rows × 11 columns</p>\n",
       "</div>"
      ],
      "text/plain": [
       "        NoDur  Durbl  Manuf  Enrgy  HiTec  Telcm  Shops  Hlth  Utils  Other  \\\n",
       "Date                                                                          \n",
       "200401   0.06  -1.07  -0.62   0.44   4.53   1.41   0.45  3.09   1.92   2.88   \n",
       "200402   4.25  -0.07   1.95   4.69  -2.92  -0.52   6.09  0.89   2.07   2.16   \n",
       "200403  -0.09  -1.15  -0.27  -0.13  -2.55  -2.07   0.29 -3.96   1.13  -0.63   \n",
       "200404   1.42   2.30  -0.17   2.52  -4.91  -0.48  -2.70  3.54  -3.55  -3.76   \n",
       "200405  -1.89  -1.64   1.61   0.39   4.85  -2.95   0.30 -0.42   1.28   1.86   \n",
       "...       ...    ...    ...    ...    ...    ...    ...   ...    ...    ...   \n",
       "201308  -4.00  -1.00  -1.95  -1.83  -0.12  -3.28  -4.21 -3.49  -4.43  -3.66   \n",
       "201309   1.94   6.46   5.20   2.03   3.77   4.33   4.46  4.19   1.05   3.83   \n",
       "201310   4.75   0.72   4.56   4.86   3.80   5.52   5.08  3.47   3.35   3.87   \n",
       "201311   1.29   1.81   2.95   0.85   3.65   0.27   3.67  4.54  -1.81   4.74   \n",
       "201312   2.65   1.18   3.13   2.95   4.04   3.96   0.20  0.71   1.79   3.11   \n",
       "\n",
       "        Market  \n",
       "Date            \n",
       "200401    2.22  \n",
       "200402    1.46  \n",
       "200403   -1.23  \n",
       "200404   -1.75  \n",
       "200405    1.23  \n",
       "...        ...  \n",
       "201308   -2.69  \n",
       "201309    3.76  \n",
       "201310    4.17  \n",
       "201311    3.12  \n",
       "201312    2.81  \n",
       "\n",
       "[120 rows x 11 columns]"
      ]
     },
     "execution_count": 3,
     "metadata": {},
     "output_type": "execute_result"
    }
   ],
   "source": [
    "df"
   ]
  },
  {
   "cell_type": "code",
   "execution_count": 4,
   "metadata": {},
   "outputs": [],
   "source": [
    "#calculate the tracking error [Ri - Rm]\n",
    "for i in np.arange(10):\n",
    "    df.iloc[:,i] = df.iloc[:,i] - df.iloc[:,10] "
   ]
  },
  {
   "cell_type": "code",
   "execution_count": 5,
   "metadata": {},
   "outputs": [],
   "source": [
    "df = df.drop(\"Market\", axis = 1)"
   ]
  },
  {
   "cell_type": "code",
   "execution_count": 6,
   "metadata": {},
   "outputs": [
    {
     "data": {
      "text/html": [
       "<div>\n",
       "<style scoped>\n",
       "    .dataframe tbody tr th:only-of-type {\n",
       "        vertical-align: middle;\n",
       "    }\n",
       "\n",
       "    .dataframe tbody tr th {\n",
       "        vertical-align: top;\n",
       "    }\n",
       "\n",
       "    .dataframe thead th {\n",
       "        text-align: right;\n",
       "    }\n",
       "</style>\n",
       "<table border=\"1\" class=\"dataframe\">\n",
       "  <thead>\n",
       "    <tr style=\"text-align: right;\">\n",
       "      <th></th>\n",
       "      <th>NoDur</th>\n",
       "      <th>Durbl</th>\n",
       "      <th>Manuf</th>\n",
       "      <th>Enrgy</th>\n",
       "      <th>HiTec</th>\n",
       "      <th>Telcm</th>\n",
       "      <th>Shops</th>\n",
       "      <th>Hlth</th>\n",
       "      <th>Utils</th>\n",
       "      <th>Other</th>\n",
       "    </tr>\n",
       "    <tr>\n",
       "      <th>Date</th>\n",
       "      <th></th>\n",
       "      <th></th>\n",
       "      <th></th>\n",
       "      <th></th>\n",
       "      <th></th>\n",
       "      <th></th>\n",
       "      <th></th>\n",
       "      <th></th>\n",
       "      <th></th>\n",
       "      <th></th>\n",
       "    </tr>\n",
       "  </thead>\n",
       "  <tbody>\n",
       "    <tr>\n",
       "      <th>200401</th>\n",
       "      <td>-2.16</td>\n",
       "      <td>-3.29</td>\n",
       "      <td>-2.84</td>\n",
       "      <td>-1.78</td>\n",
       "      <td>2.31</td>\n",
       "      <td>-0.81</td>\n",
       "      <td>-1.77</td>\n",
       "      <td>0.87</td>\n",
       "      <td>-0.30</td>\n",
       "      <td>0.66</td>\n",
       "    </tr>\n",
       "    <tr>\n",
       "      <th>200402</th>\n",
       "      <td>2.79</td>\n",
       "      <td>-1.53</td>\n",
       "      <td>0.49</td>\n",
       "      <td>3.23</td>\n",
       "      <td>-4.38</td>\n",
       "      <td>-1.98</td>\n",
       "      <td>4.63</td>\n",
       "      <td>-0.57</td>\n",
       "      <td>0.61</td>\n",
       "      <td>0.70</td>\n",
       "    </tr>\n",
       "    <tr>\n",
       "      <th>200403</th>\n",
       "      <td>1.14</td>\n",
       "      <td>0.08</td>\n",
       "      <td>0.96</td>\n",
       "      <td>1.10</td>\n",
       "      <td>-1.32</td>\n",
       "      <td>-0.84</td>\n",
       "      <td>1.52</td>\n",
       "      <td>-2.73</td>\n",
       "      <td>2.36</td>\n",
       "      <td>0.60</td>\n",
       "    </tr>\n",
       "    <tr>\n",
       "      <th>200404</th>\n",
       "      <td>3.17</td>\n",
       "      <td>4.05</td>\n",
       "      <td>1.58</td>\n",
       "      <td>4.27</td>\n",
       "      <td>-3.16</td>\n",
       "      <td>1.27</td>\n",
       "      <td>-0.95</td>\n",
       "      <td>5.29</td>\n",
       "      <td>-1.80</td>\n",
       "      <td>-2.01</td>\n",
       "    </tr>\n",
       "    <tr>\n",
       "      <th>200405</th>\n",
       "      <td>-3.12</td>\n",
       "      <td>-2.87</td>\n",
       "      <td>0.38</td>\n",
       "      <td>-0.84</td>\n",
       "      <td>3.62</td>\n",
       "      <td>-4.18</td>\n",
       "      <td>-0.93</td>\n",
       "      <td>-1.65</td>\n",
       "      <td>0.05</td>\n",
       "      <td>0.63</td>\n",
       "    </tr>\n",
       "    <tr>\n",
       "      <th>...</th>\n",
       "      <td>...</td>\n",
       "      <td>...</td>\n",
       "      <td>...</td>\n",
       "      <td>...</td>\n",
       "      <td>...</td>\n",
       "      <td>...</td>\n",
       "      <td>...</td>\n",
       "      <td>...</td>\n",
       "      <td>...</td>\n",
       "      <td>...</td>\n",
       "    </tr>\n",
       "    <tr>\n",
       "      <th>201308</th>\n",
       "      <td>-1.31</td>\n",
       "      <td>1.69</td>\n",
       "      <td>0.74</td>\n",
       "      <td>0.86</td>\n",
       "      <td>2.57</td>\n",
       "      <td>-0.59</td>\n",
       "      <td>-1.52</td>\n",
       "      <td>-0.80</td>\n",
       "      <td>-1.74</td>\n",
       "      <td>-0.97</td>\n",
       "    </tr>\n",
       "    <tr>\n",
       "      <th>201309</th>\n",
       "      <td>-1.82</td>\n",
       "      <td>2.70</td>\n",
       "      <td>1.44</td>\n",
       "      <td>-1.73</td>\n",
       "      <td>0.01</td>\n",
       "      <td>0.57</td>\n",
       "      <td>0.70</td>\n",
       "      <td>0.43</td>\n",
       "      <td>-2.71</td>\n",
       "      <td>0.07</td>\n",
       "    </tr>\n",
       "    <tr>\n",
       "      <th>201310</th>\n",
       "      <td>0.58</td>\n",
       "      <td>-3.45</td>\n",
       "      <td>0.39</td>\n",
       "      <td>0.69</td>\n",
       "      <td>-0.37</td>\n",
       "      <td>1.35</td>\n",
       "      <td>0.91</td>\n",
       "      <td>-0.70</td>\n",
       "      <td>-0.82</td>\n",
       "      <td>-0.30</td>\n",
       "    </tr>\n",
       "    <tr>\n",
       "      <th>201311</th>\n",
       "      <td>-1.83</td>\n",
       "      <td>-1.31</td>\n",
       "      <td>-0.17</td>\n",
       "      <td>-2.27</td>\n",
       "      <td>0.53</td>\n",
       "      <td>-2.85</td>\n",
       "      <td>0.55</td>\n",
       "      <td>1.42</td>\n",
       "      <td>-4.93</td>\n",
       "      <td>1.62</td>\n",
       "    </tr>\n",
       "    <tr>\n",
       "      <th>201312</th>\n",
       "      <td>-0.16</td>\n",
       "      <td>-1.63</td>\n",
       "      <td>0.32</td>\n",
       "      <td>0.14</td>\n",
       "      <td>1.23</td>\n",
       "      <td>1.15</td>\n",
       "      <td>-2.61</td>\n",
       "      <td>-2.10</td>\n",
       "      <td>-1.02</td>\n",
       "      <td>0.30</td>\n",
       "    </tr>\n",
       "  </tbody>\n",
       "</table>\n",
       "<p>120 rows × 10 columns</p>\n",
       "</div>"
      ],
      "text/plain": [
       "        NoDur  Durbl  Manuf  Enrgy  HiTec  Telcm  Shops  Hlth  Utils  Other\n",
       "Date                                                                       \n",
       "200401  -2.16  -3.29  -2.84  -1.78   2.31  -0.81  -1.77  0.87  -0.30   0.66\n",
       "200402   2.79  -1.53   0.49   3.23  -4.38  -1.98   4.63 -0.57   0.61   0.70\n",
       "200403   1.14   0.08   0.96   1.10  -1.32  -0.84   1.52 -2.73   2.36   0.60\n",
       "200404   3.17   4.05   1.58   4.27  -3.16   1.27  -0.95  5.29  -1.80  -2.01\n",
       "200405  -3.12  -2.87   0.38  -0.84   3.62  -4.18  -0.93 -1.65   0.05   0.63\n",
       "...       ...    ...    ...    ...    ...    ...    ...   ...    ...    ...\n",
       "201308  -1.31   1.69   0.74   0.86   2.57  -0.59  -1.52 -0.80  -1.74  -0.97\n",
       "201309  -1.82   2.70   1.44  -1.73   0.01   0.57   0.70  0.43  -2.71   0.07\n",
       "201310   0.58  -3.45   0.39   0.69  -0.37   1.35   0.91 -0.70  -0.82  -0.30\n",
       "201311  -1.83  -1.31  -0.17  -2.27   0.53  -2.85   0.55  1.42  -4.93   1.62\n",
       "201312  -0.16  -1.63   0.32   0.14   1.23   1.15  -2.61 -2.10  -1.02   0.30\n",
       "\n",
       "[120 rows x 10 columns]"
      ]
     },
     "execution_count": 6,
     "metadata": {},
     "output_type": "execute_result"
    }
   ],
   "source": [
    "df"
   ]
  },
  {
   "cell_type": "code",
   "execution_count": 7,
   "metadata": {},
   "outputs": [
    {
     "data": {
      "text/html": [
       "<div>\n",
       "<style scoped>\n",
       "    .dataframe tbody tr th:only-of-type {\n",
       "        vertical-align: middle;\n",
       "    }\n",
       "\n",
       "    .dataframe tbody tr th {\n",
       "        vertical-align: top;\n",
       "    }\n",
       "\n",
       "    .dataframe thead th {\n",
       "        text-align: right;\n",
       "    }\n",
       "</style>\n",
       "<table border=\"1\" class=\"dataframe\">\n",
       "  <thead>\n",
       "    <tr style=\"text-align: right;\">\n",
       "      <th></th>\n",
       "      <th>NoDur</th>\n",
       "      <th>Durbl</th>\n",
       "      <th>Manuf</th>\n",
       "      <th>Enrgy</th>\n",
       "      <th>HiTec</th>\n",
       "      <th>Telcm</th>\n",
       "      <th>Shops</th>\n",
       "      <th>Hlth</th>\n",
       "      <th>Utils</th>\n",
       "      <th>Other</th>\n",
       "    </tr>\n",
       "    <tr>\n",
       "      <th>Date</th>\n",
       "      <th></th>\n",
       "      <th></th>\n",
       "      <th></th>\n",
       "      <th></th>\n",
       "      <th></th>\n",
       "      <th></th>\n",
       "      <th></th>\n",
       "      <th></th>\n",
       "      <th></th>\n",
       "      <th></th>\n",
       "    </tr>\n",
       "  </thead>\n",
       "  <tbody>\n",
       "    <tr>\n",
       "      <th>200401</th>\n",
       "      <td>-0.0216</td>\n",
       "      <td>-0.0329</td>\n",
       "      <td>-0.0284</td>\n",
       "      <td>-0.0178</td>\n",
       "      <td>0.0231</td>\n",
       "      <td>-0.0081</td>\n",
       "      <td>-0.0177</td>\n",
       "      <td>0.0087</td>\n",
       "      <td>-0.0030</td>\n",
       "      <td>0.0066</td>\n",
       "    </tr>\n",
       "    <tr>\n",
       "      <th>200402</th>\n",
       "      <td>0.0279</td>\n",
       "      <td>-0.0153</td>\n",
       "      <td>0.0049</td>\n",
       "      <td>0.0323</td>\n",
       "      <td>-0.0438</td>\n",
       "      <td>-0.0198</td>\n",
       "      <td>0.0463</td>\n",
       "      <td>-0.0057</td>\n",
       "      <td>0.0061</td>\n",
       "      <td>0.0070</td>\n",
       "    </tr>\n",
       "    <tr>\n",
       "      <th>200403</th>\n",
       "      <td>0.0114</td>\n",
       "      <td>0.0008</td>\n",
       "      <td>0.0096</td>\n",
       "      <td>0.0110</td>\n",
       "      <td>-0.0132</td>\n",
       "      <td>-0.0084</td>\n",
       "      <td>0.0152</td>\n",
       "      <td>-0.0273</td>\n",
       "      <td>0.0236</td>\n",
       "      <td>0.0060</td>\n",
       "    </tr>\n",
       "    <tr>\n",
       "      <th>200404</th>\n",
       "      <td>0.0317</td>\n",
       "      <td>0.0405</td>\n",
       "      <td>0.0158</td>\n",
       "      <td>0.0427</td>\n",
       "      <td>-0.0316</td>\n",
       "      <td>0.0127</td>\n",
       "      <td>-0.0095</td>\n",
       "      <td>0.0529</td>\n",
       "      <td>-0.0180</td>\n",
       "      <td>-0.0201</td>\n",
       "    </tr>\n",
       "    <tr>\n",
       "      <th>200405</th>\n",
       "      <td>-0.0312</td>\n",
       "      <td>-0.0287</td>\n",
       "      <td>0.0038</td>\n",
       "      <td>-0.0084</td>\n",
       "      <td>0.0362</td>\n",
       "      <td>-0.0418</td>\n",
       "      <td>-0.0093</td>\n",
       "      <td>-0.0165</td>\n",
       "      <td>0.0005</td>\n",
       "      <td>0.0063</td>\n",
       "    </tr>\n",
       "  </tbody>\n",
       "</table>\n",
       "</div>"
      ],
      "text/plain": [
       "         NoDur   Durbl   Manuf   Enrgy   HiTec   Telcm   Shops    Hlth  \\\n",
       "Date                                                                     \n",
       "200401 -0.0216 -0.0329 -0.0284 -0.0178  0.0231 -0.0081 -0.0177  0.0087   \n",
       "200402  0.0279 -0.0153  0.0049  0.0323 -0.0438 -0.0198  0.0463 -0.0057   \n",
       "200403  0.0114  0.0008  0.0096  0.0110 -0.0132 -0.0084  0.0152 -0.0273   \n",
       "200404  0.0317  0.0405  0.0158  0.0427 -0.0316  0.0127 -0.0095  0.0529   \n",
       "200405 -0.0312 -0.0287  0.0038 -0.0084  0.0362 -0.0418 -0.0093 -0.0165   \n",
       "\n",
       "         Utils   Other  \n",
       "Date                    \n",
       "200401 -0.0030  0.0066  \n",
       "200402  0.0061  0.0070  \n",
       "200403  0.0236  0.0060  \n",
       "200404 -0.0180 -0.0201  \n",
       "200405  0.0005  0.0063  "
      ]
     },
     "execution_count": 7,
     "metadata": {},
     "output_type": "execute_result"
    }
   ],
   "source": [
    "# change the percenrtage\n",
    "df = df/100\n",
    "df.head()"
   ]
  },
  {
   "cell_type": "code",
   "execution_count": 8,
   "metadata": {},
   "outputs": [
    {
     "data": {
      "text/html": [
       "<div>\n",
       "<style scoped>\n",
       "    .dataframe tbody tr th:only-of-type {\n",
       "        vertical-align: middle;\n",
       "    }\n",
       "\n",
       "    .dataframe tbody tr th {\n",
       "        vertical-align: top;\n",
       "    }\n",
       "\n",
       "    .dataframe thead th {\n",
       "        text-align: right;\n",
       "    }\n",
       "</style>\n",
       "<table border=\"1\" class=\"dataframe\">\n",
       "  <thead>\n",
       "    <tr style=\"text-align: right;\">\n",
       "      <th></th>\n",
       "      <th>NoDur</th>\n",
       "      <th>Durbl</th>\n",
       "      <th>Manuf</th>\n",
       "      <th>Enrgy</th>\n",
       "      <th>HiTec</th>\n",
       "      <th>Telcm</th>\n",
       "      <th>Shops</th>\n",
       "      <th>Hlth</th>\n",
       "      <th>Utils</th>\n",
       "      <th>Other</th>\n",
       "    </tr>\n",
       "  </thead>\n",
       "  <tbody>\n",
       "    <tr>\n",
       "      <th>NoDur</th>\n",
       "      <td>0.000544</td>\n",
       "      <td>-0.000607</td>\n",
       "      <td>-0.000140</td>\n",
       "      <td>-0.000120</td>\n",
       "      <td>-0.000188</td>\n",
       "      <td>0.000154</td>\n",
       "      <td>0.000114</td>\n",
       "      <td>0.000382</td>\n",
       "      <td>0.000427</td>\n",
       "      <td>-0.000177</td>\n",
       "    </tr>\n",
       "    <tr>\n",
       "      <th>Durbl</th>\n",
       "      <td>-0.000607</td>\n",
       "      <td>0.002663</td>\n",
       "      <td>0.000491</td>\n",
       "      <td>-0.000348</td>\n",
       "      <td>0.000189</td>\n",
       "      <td>-0.000171</td>\n",
       "      <td>-0.000035</td>\n",
       "      <td>-0.000808</td>\n",
       "      <td>-0.000962</td>\n",
       "      <td>0.000439</td>\n",
       "    </tr>\n",
       "    <tr>\n",
       "      <th>Manuf</th>\n",
       "      <td>-0.000140</td>\n",
       "      <td>0.000491</td>\n",
       "      <td>0.000295</td>\n",
       "      <td>0.000167</td>\n",
       "      <td>0.000007</td>\n",
       "      <td>-0.000063</td>\n",
       "      <td>-0.000115</td>\n",
       "      <td>-0.000229</td>\n",
       "      <td>-0.000190</td>\n",
       "      <td>0.000036</td>\n",
       "    </tr>\n",
       "    <tr>\n",
       "      <th>Enrgy</th>\n",
       "      <td>-0.000120</td>\n",
       "      <td>-0.000348</td>\n",
       "      <td>0.000167</td>\n",
       "      <td>0.001927</td>\n",
       "      <td>-0.000152</td>\n",
       "      <td>-0.000104</td>\n",
       "      <td>-0.000371</td>\n",
       "      <td>-0.000249</td>\n",
       "      <td>0.000445</td>\n",
       "      <td>-0.000386</td>\n",
       "    </tr>\n",
       "    <tr>\n",
       "      <th>HiTec</th>\n",
       "      <td>-0.000188</td>\n",
       "      <td>0.000189</td>\n",
       "      <td>0.000007</td>\n",
       "      <td>-0.000152</td>\n",
       "      <td>0.000510</td>\n",
       "      <td>-0.000077</td>\n",
       "      <td>-0.000025</td>\n",
       "      <td>-0.000194</td>\n",
       "      <td>-0.000234</td>\n",
       "      <td>-0.000140</td>\n",
       "    </tr>\n",
       "    <tr>\n",
       "      <th>Telcm</th>\n",
       "      <td>0.000154</td>\n",
       "      <td>-0.000171</td>\n",
       "      <td>-0.000063</td>\n",
       "      <td>-0.000104</td>\n",
       "      <td>-0.000077</td>\n",
       "      <td>0.000468</td>\n",
       "      <td>0.000046</td>\n",
       "      <td>0.000069</td>\n",
       "      <td>0.000272</td>\n",
       "      <td>-0.000127</td>\n",
       "    </tr>\n",
       "    <tr>\n",
       "      <th>Shops</th>\n",
       "      <td>0.000114</td>\n",
       "      <td>-0.000035</td>\n",
       "      <td>-0.000115</td>\n",
       "      <td>-0.000371</td>\n",
       "      <td>-0.000025</td>\n",
       "      <td>0.000046</td>\n",
       "      <td>0.000445</td>\n",
       "      <td>0.000076</td>\n",
       "      <td>-0.000018</td>\n",
       "      <td>-0.000026</td>\n",
       "    </tr>\n",
       "    <tr>\n",
       "      <th>Hlth</th>\n",
       "      <td>0.000382</td>\n",
       "      <td>-0.000808</td>\n",
       "      <td>-0.000229</td>\n",
       "      <td>-0.000249</td>\n",
       "      <td>-0.000194</td>\n",
       "      <td>0.000069</td>\n",
       "      <td>0.000076</td>\n",
       "      <td>0.000782</td>\n",
       "      <td>0.000350</td>\n",
       "      <td>-0.000173</td>\n",
       "    </tr>\n",
       "    <tr>\n",
       "      <th>Utils</th>\n",
       "      <td>0.000427</td>\n",
       "      <td>-0.000962</td>\n",
       "      <td>-0.000190</td>\n",
       "      <td>0.000445</td>\n",
       "      <td>-0.000234</td>\n",
       "      <td>0.000272</td>\n",
       "      <td>-0.000018</td>\n",
       "      <td>0.000350</td>\n",
       "      <td>0.001227</td>\n",
       "      <td>-0.000406</td>\n",
       "    </tr>\n",
       "    <tr>\n",
       "      <th>Other</th>\n",
       "      <td>-0.000177</td>\n",
       "      <td>0.000439</td>\n",
       "      <td>0.000036</td>\n",
       "      <td>-0.000386</td>\n",
       "      <td>-0.000140</td>\n",
       "      <td>-0.000127</td>\n",
       "      <td>-0.000026</td>\n",
       "      <td>-0.000173</td>\n",
       "      <td>-0.000406</td>\n",
       "      <td>0.000450</td>\n",
       "    </tr>\n",
       "  </tbody>\n",
       "</table>\n",
       "</div>"
      ],
      "text/plain": [
       "          NoDur     Durbl     Manuf     Enrgy     HiTec     Telcm     Shops  \\\n",
       "NoDur  0.000544 -0.000607 -0.000140 -0.000120 -0.000188  0.000154  0.000114   \n",
       "Durbl -0.000607  0.002663  0.000491 -0.000348  0.000189 -0.000171 -0.000035   \n",
       "Manuf -0.000140  0.000491  0.000295  0.000167  0.000007 -0.000063 -0.000115   \n",
       "Enrgy -0.000120 -0.000348  0.000167  0.001927 -0.000152 -0.000104 -0.000371   \n",
       "HiTec -0.000188  0.000189  0.000007 -0.000152  0.000510 -0.000077 -0.000025   \n",
       "Telcm  0.000154 -0.000171 -0.000063 -0.000104 -0.000077  0.000468  0.000046   \n",
       "Shops  0.000114 -0.000035 -0.000115 -0.000371 -0.000025  0.000046  0.000445   \n",
       "Hlth   0.000382 -0.000808 -0.000229 -0.000249 -0.000194  0.000069  0.000076   \n",
       "Utils  0.000427 -0.000962 -0.000190  0.000445 -0.000234  0.000272 -0.000018   \n",
       "Other -0.000177  0.000439  0.000036 -0.000386 -0.000140 -0.000127 -0.000026   \n",
       "\n",
       "           Hlth     Utils     Other  \n",
       "NoDur  0.000382  0.000427 -0.000177  \n",
       "Durbl -0.000808 -0.000962  0.000439  \n",
       "Manuf -0.000229 -0.000190  0.000036  \n",
       "Enrgy -0.000249  0.000445 -0.000386  \n",
       "HiTec -0.000194 -0.000234 -0.000140  \n",
       "Telcm  0.000069  0.000272 -0.000127  \n",
       "Shops  0.000076 -0.000018 -0.000026  \n",
       "Hlth   0.000782  0.000350 -0.000173  \n",
       "Utils  0.000350  0.001227 -0.000406  \n",
       "Other -0.000173 -0.000406  0.000450  "
      ]
     },
     "execution_count": 8,
     "metadata": {},
     "output_type": "execute_result"
    }
   ],
   "source": [
    "#calculate covariance matrix\n",
    "cov_matrix = df.cov()\n",
    "cov_matrix"
   ]
  },
  {
   "cell_type": "code",
   "execution_count": 9,
   "metadata": {
    "scrolled": true
   },
   "outputs": [
    {
     "name": "stdout",
     "output_type": "stream",
     "text": [
      "Mean Return and Standard Deviation of 10 portfolio's Tracking-Error\n"
     ]
    },
    {
     "data": {
      "text/html": [
       "<div>\n",
       "<style scoped>\n",
       "    .dataframe tbody tr th:only-of-type {\n",
       "        vertical-align: middle;\n",
       "    }\n",
       "\n",
       "    .dataframe tbody tr th {\n",
       "        vertical-align: top;\n",
       "    }\n",
       "\n",
       "    .dataframe thead th {\n",
       "        text-align: right;\n",
       "    }\n",
       "</style>\n",
       "<table border=\"1\" class=\"dataframe\">\n",
       "  <thead>\n",
       "    <tr style=\"text-align: right;\">\n",
       "      <th></th>\n",
       "      <th>Returns</th>\n",
       "      <th>Volatility</th>\n",
       "    </tr>\n",
       "  </thead>\n",
       "  <tbody>\n",
       "    <tr>\n",
       "      <th>NoDur</th>\n",
       "      <td>0.001547</td>\n",
       "      <td>0.023323</td>\n",
       "    </tr>\n",
       "    <tr>\n",
       "      <th>Durbl</th>\n",
       "      <td>-0.000147</td>\n",
       "      <td>0.051603</td>\n",
       "    </tr>\n",
       "    <tr>\n",
       "      <th>Manuf</th>\n",
       "      <td>0.002648</td>\n",
       "      <td>0.017177</td>\n",
       "    </tr>\n",
       "    <tr>\n",
       "      <th>Enrgy</th>\n",
       "      <td>0.004831</td>\n",
       "      <td>0.043903</td>\n",
       "    </tr>\n",
       "    <tr>\n",
       "      <th>HiTec</th>\n",
       "      <td>0.000182</td>\n",
       "      <td>0.022580</td>\n",
       "    </tr>\n",
       "    <tr>\n",
       "      <th>Telcm</th>\n",
       "      <td>0.001333</td>\n",
       "      <td>0.021639</td>\n",
       "    </tr>\n",
       "    <tr>\n",
       "      <th>Shops</th>\n",
       "      <td>0.001683</td>\n",
       "      <td>0.021101</td>\n",
       "    </tr>\n",
       "    <tr>\n",
       "      <th>Hlth</th>\n",
       "      <td>0.000358</td>\n",
       "      <td>0.027965</td>\n",
       "    </tr>\n",
       "    <tr>\n",
       "      <th>Utils</th>\n",
       "      <td>0.001591</td>\n",
       "      <td>0.035025</td>\n",
       "    </tr>\n",
       "    <tr>\n",
       "      <th>Other</th>\n",
       "      <td>-0.002590</td>\n",
       "      <td>0.021221</td>\n",
       "    </tr>\n",
       "  </tbody>\n",
       "</table>\n",
       "</div>"
      ],
      "text/plain": [
       "        Returns  Volatility\n",
       "NoDur  0.001547    0.023323\n",
       "Durbl -0.000147    0.051603\n",
       "Manuf  0.002648    0.017177\n",
       "Enrgy  0.004831    0.043903\n",
       "HiTec  0.000182    0.022580\n",
       "Telcm  0.001333    0.021639\n",
       "Shops  0.001683    0.021101\n",
       "Hlth   0.000358    0.027965\n",
       "Utils  0.001591    0.035025\n",
       "Other -0.002590    0.021221"
      ]
     },
     "execution_count": 9,
     "metadata": {},
     "output_type": "execute_result"
    }
   ],
   "source": [
    "#Calculate the mean and standard deviation of the tracking error\n",
    "data_df_std = df.std()\n",
    "data_df_return = df.mean()\n",
    "assets = pd.concat([data_df_return, data_df_std], axis = 1)\n",
    "assets.columns = [\"Returns\", \"Volatility\"]\n",
    "print(\"Mean Return and Standard Deviation of 10 portfolio's Tracking-Error\")\n",
    "assets"
   ]
  },
  {
   "cell_type": "markdown",
   "metadata": {},
   "source": [
    "### Calculate α , ζ and δ using formula"
   ]
  },
  {
   "cell_type": "code",
   "execution_count": 10,
   "metadata": {},
   "outputs": [],
   "source": [
    "e = np.asmatrix(np.ones(10, dtype = int)).T\n",
    "R = np.asmatrix(assets['Returns'].values).T\n",
    "V = np.matrix(cov_matrix.values)\n",
    "V_invert = np.linalg.inv(V)"
   ]
  },
  {
   "cell_type": "code",
   "execution_count": 11,
   "metadata": {},
   "outputs": [
    {
     "data": {
      "text/plain": [
       "293.2127882630597"
      ]
     },
     "execution_count": 11,
     "metadata": {},
     "output_type": "execute_result"
    }
   ],
   "source": [
    "Alpha = R.T*V_invert*e\n",
    "Alpha = Alpha.sum()\n",
    "Alpha"
   ]
  },
  {
   "cell_type": "code",
   "execution_count": 12,
   "metadata": {},
   "outputs": [
    {
     "data": {
      "text/plain": [
       "0.20474497351129956"
      ]
     },
     "execution_count": 12,
     "metadata": {},
     "output_type": "execute_result"
    }
   ],
   "source": [
    "Zeta = R.T*V_invert*R\n",
    "Zeta= Zeta.sum()\n",
    "Zeta"
   ]
  },
  {
   "cell_type": "code",
   "execution_count": 13,
   "metadata": {},
   "outputs": [
    {
     "data": {
      "text/plain": [
       "585502.543763984"
      ]
     },
     "execution_count": 13,
     "metadata": {},
     "output_type": "execute_result"
    }
   ],
   "source": [
    "Delta = e.T*V_invert*e\n",
    "Delta = Delta.sum()\n",
    "Delta"
   ]
  },
  {
   "cell_type": "code",
   "execution_count": 14,
   "metadata": {},
   "outputs": [
    {
     "data": {
      "text/plain": [
       "0.0005007882397540082"
      ]
     },
     "execution_count": 14,
     "metadata": {},
     "output_type": "execute_result"
    }
   ],
   "source": [
    "Rmv = (Alpha / Delta)\n",
    "Rmv"
   ]
  },
  {
   "cell_type": "markdown",
   "metadata": {},
   "source": [
    "### Calculate a and b using formula"
   ]
  },
  {
   "cell_type": "markdown",
   "metadata": {},
   "source": [
    "**w* = a + b * Rp**"
   ]
  },
  {
   "cell_type": "code",
   "execution_count": 15,
   "metadata": {},
   "outputs": [],
   "source": [
    "a = (Zeta*V_invert*e - Alpha*V_invert*R) / (Zeta*Delta - Alpha**2)"
   ]
  },
  {
   "cell_type": "code",
   "execution_count": 16,
   "metadata": {},
   "outputs": [],
   "source": [
    "b = (Delta*V_invert*R - Alpha*V_invert*e) / (Zeta*Delta - Alpha**2)"
   ]
  },
  {
   "cell_type": "markdown",
   "metadata": {},
   "source": [
    "### Define Rp range and calculate respective opimal portfolio weight and standard deviation"
   ]
  },
  {
   "cell_type": "code",
   "execution_count": 17,
   "metadata": {},
   "outputs": [],
   "source": [
    "#define the range of Return on Portfolio\n",
    "Rp_array = np.arange(0,0.00105,0.00005)\n",
    "list_of_Rp = list(Rp_array)"
   ]
  },
  {
   "cell_type": "code",
   "execution_count": 18,
   "metadata": {},
   "outputs": [],
   "source": [
    "# calculate the respective optimal weight based on Rp\n",
    "list_of_optimal_weight = []\n",
    "for Rp in list_of_Rp:\n",
    "    w = a + b*Rp\n",
    "    list_of_optimal_weight.append(w)"
   ]
  },
  {
   "cell_type": "code",
   "execution_count": 19,
   "metadata": {},
   "outputs": [],
   "source": [
    "# calculate the corresponding portfolio variance based on optimal weight and covariance matrix\n",
    "list_of_Variance = []\n",
    "for w in list_of_optimal_weight:\n",
    "    variance = w.T*V*w\n",
    "    list_of_Variance.append(variance.sum())"
   ]
  },
  {
   "cell_type": "code",
   "execution_count": 20,
   "metadata": {},
   "outputs": [],
   "source": [
    "# calculate standard deviation of optimal portfolio by sqrt the variance\n",
    "list_of_std = np.sqrt(list_of_Variance)"
   ]
  },
  {
   "cell_type": "code",
   "execution_count": 21,
   "metadata": {},
   "outputs": [],
   "source": [
    "# Lower Bound of the Frontier\n",
    "Rp_array_bottom = list(np.arange(0,Rmv,0.00005))\n",
    "\n",
    "list_of_optimal_weight_Bottom = []\n",
    "for Rp in Rp_array_bottom:\n",
    "    w = a + b*Rp\n",
    "    list_of_optimal_weight_Bottom.append(w)\n",
    "\n",
    "list_of_Std_Bottom = []\n",
    "for w in list_of_optimal_weight_Bottom:\n",
    "    variance = w.T*V*w\n",
    "    std = np.sqrt(variance.sum())\n",
    "    list_of_Std_Bottom.append(std)\n"
   ]
  },
  {
   "cell_type": "markdown",
   "metadata": {},
   "source": [
    "### Plot Effecient Frontier"
   ]
  },
  {
   "cell_type": "code",
   "execution_count": 22,
   "metadata": {
    "scrolled": false
   },
   "outputs": [
    {
     "data": {
      "image/png": "[encoded data removed]",
      "text/plain": [
       "<Figure size 864x576 with 1 Axes>"
      ]
     },
     "metadata": {
      "needs_background": "light"
     },
     "output_type": "display_data"
    }
   ],
   "source": [
    "plt.figure(figsize = (12,8))\n",
    "plt.plot(list_of_std, list_of_Rp)\n",
    "plt.plot(list_of_Std_Bottom, Rp_array_bottom, \"--\", color = \"white\")# Lowerbound of the Frontier\n",
    "\n",
    "plt.title(\"Minimum-Tracking-Error Frontier\", fontsize = 20)\n",
    "plt.xlabel(\"Tracking error\", fontsize = 20)\n",
    "plt.ylabel(\"Expected return deviation\", fontsize = 20)\n",
    "plt.grid(True)\n",
    "plt.show()"
   ]
  },
  {
   "cell_type": "markdown",
   "metadata": {},
   "source": [
    "### With Riskless Assets"
   ]
  },
  {
   "cell_type": "code",
   "execution_count": 23,
   "metadata": {},
   "outputs": [],
   "source": [
    "#define Riskfree Rate\n",
    "Rf = 0"
   ]
  },
  {
   "cell_type": "code",
   "execution_count": 24,
   "metadata": {},
   "outputs": [],
   "source": [
    "# define the range of Portfolio return (between risk free rate 0.13% to 2%)\n",
    "R_1 = list(np.arange(Rf,0.00105,0.00005))"
   ]
  },
  {
   "cell_type": "code",
   "execution_count": 25,
   "metadata": {
    "scrolled": true
   },
   "outputs": [],
   "source": [
    "# calculate the respective std based on defiend Portfolio Return\n",
    "std_1 = []\n",
    "for r in np.arange(Rf,0.00105,0.00005):\n",
    "    v = (r - Rf)**2 / (Zeta - 2*Alpha*Rf + Delta* (Rf**2))\n",
    "    std_1.append(np.sqrt(v))"
   ]
  },
  {
   "cell_type": "code",
   "execution_count": 26,
   "metadata": {
    "scrolled": false
   },
   "outputs": [
    {
     "data": {
      "image/png": "[encoded data removed]",
      "text/plain": [
       "<Figure size 864x576 with 1 Axes>"
      ]
     },
     "metadata": {
      "needs_background": "light"
     },
     "output_type": "display_data"
    }
   ],
   "source": [
    "plt.figure(figsize = (12,8))\n",
    "plt.plot(std_1, R_1, label = \"Effecient Frontier With Riskless Assets\") # With Riskless Assets\n",
    "plt.plot(list_of_std, list_of_Rp, label = \"Minimum Variance Frontier Without Riskless Assets\") # Without Riskless Assets\n",
    "plt.plot(list_of_Std_Bottom, Rp_array_bottom, \"--\", color = \"white\") # Lowerbound of the Frontier\n",
    "\n",
    "plt.title(\"Minimum-Tracking-Error Frontier\", fontsize = 20)\n",
    "plt.xlabel(\"Tracking error\", fontsize = 20)\n",
    "plt.ylabel(\"Expected return deviation\", fontsize = 20)\n",
    "plt.grid(True)\n",
    "plt.legend(fontsize = 12)\n",
    "plt.show()"
   ]
  },
  {
   "cell_type": "markdown",
   "metadata": {},
   "source": [
    "### Tangency Portfolio"
   ]
  },
  {
   "cell_type": "code",
   "execution_count": 27,
   "metadata": {},
   "outputs": [
    {
     "data": {
      "text/plain": [
       "0.0006982811859065639"
      ]
     },
     "execution_count": 27,
     "metadata": {},
     "output_type": "execute_result"
    }
   ],
   "source": [
    "#Return of Tangency Portfolio\n",
    "Rtg = (Alpha * Rf - Zeta) / (Delta * Rf - Alpha)\n",
    "Rtg"
   ]
  },
  {
   "cell_type": "code",
   "execution_count": 28,
   "metadata": {},
   "outputs": [
    {
     "data": {
      "text/plain": [
       "0.0006982811859065639"
      ]
     },
     "execution_count": 28,
     "metadata": {},
     "output_type": "execute_result"
    }
   ],
   "source": [
    "Rtg"
   ]
  },
  {
   "cell_type": "code",
   "execution_count": 29,
   "metadata": {},
   "outputs": [
    {
     "data": {
      "text/plain": [
       "0.45248753961993204"
      ]
     },
     "execution_count": 29,
     "metadata": {},
     "output_type": "execute_result"
    }
   ],
   "source": [
    "#Information Ratio of Tangency Porfolio\n",
    "Information_Ratio = (Zeta - 2*Alpha*Rf + Delta*(Rf**2))**0.5\n",
    "Information_Ratio "
   ]
  },
  {
   "cell_type": "code",
   "execution_count": 30,
   "metadata": {},
   "outputs": [
    {
     "data": {
      "text/html": [
       "<div>\n",
       "<style scoped>\n",
       "    .dataframe tbody tr th:only-of-type {\n",
       "        vertical-align: middle;\n",
       "    }\n",
       "\n",
       "    .dataframe tbody tr th {\n",
       "        vertical-align: top;\n",
       "    }\n",
       "\n",
       "    .dataframe thead th {\n",
       "        text-align: right;\n",
       "    }\n",
       "</style>\n",
       "<table border=\"1\" class=\"dataframe\">\n",
       "  <thead>\n",
       "    <tr style=\"text-align: right;\">\n",
       "      <th></th>\n",
       "      <th>Tangency Portfolio Weight</th>\n",
       "    </tr>\n",
       "  </thead>\n",
       "  <tbody>\n",
       "    <tr>\n",
       "      <th>NoDur</th>\n",
       "      <td>0.052634</td>\n",
       "    </tr>\n",
       "    <tr>\n",
       "      <th>Durbl</th>\n",
       "      <td>0.000153</td>\n",
       "    </tr>\n",
       "    <tr>\n",
       "      <th>Manuf</th>\n",
       "      <td>0.137627</td>\n",
       "    </tr>\n",
       "    <tr>\n",
       "      <th>Enrgy</th>\n",
       "      <td>0.087032</td>\n",
       "    </tr>\n",
       "    <tr>\n",
       "      <th>HiTec</th>\n",
       "      <td>0.179353</td>\n",
       "    </tr>\n",
       "    <tr>\n",
       "      <th>Telcm</th>\n",
       "      <td>0.071074</td>\n",
       "    </tr>\n",
       "    <tr>\n",
       "      <th>Shops</th>\n",
       "      <td>0.106884</td>\n",
       "    </tr>\n",
       "    <tr>\n",
       "      <th>Hlth</th>\n",
       "      <td>0.102776</td>\n",
       "    </tr>\n",
       "    <tr>\n",
       "      <th>Utils</th>\n",
       "      <td>0.040162</td>\n",
       "    </tr>\n",
       "    <tr>\n",
       "      <th>Other</th>\n",
       "      <td>0.222304</td>\n",
       "    </tr>\n",
       "  </tbody>\n",
       "</table>\n",
       "</div>"
      ],
      "text/plain": [
       "       Tangency Portfolio Weight\n",
       "NoDur                   0.052634\n",
       "Durbl                   0.000153\n",
       "Manuf                   0.137627\n",
       "Enrgy                   0.087032\n",
       "HiTec                   0.179353\n",
       "Telcm                   0.071074\n",
       "Shops                   0.106884\n",
       "Hlth                    0.102776\n",
       "Utils                   0.040162\n",
       "Other                   0.222304"
      ]
     },
     "execution_count": 30,
     "metadata": {},
     "output_type": "execute_result"
    }
   ],
   "source": [
    "#Portfolio Weight of Tangency Portfolio\n",
    "w_tg = a + b*Rtg\n",
    "tgp = pd.DataFrame(w_tg, columns =[\"Tangency Portfolio Weight\"])\n",
    "tgp.set_index(cov_matrix.index)"
   ]
  },
  {
   "cell_type": "code",
   "execution_count": 31,
   "metadata": {},
   "outputs": [],
   "source": [
    "variance_tg = w_tg.T*V*w_tg\n",
    "std_tg = np.sqrt(variance_tg)"
   ]
  },
  {
   "cell_type": "code",
   "execution_count": 32,
   "metadata": {},
   "outputs": [],
   "source": [
    "# std_tg = -((Zeta - 2*Alpha*Rf + Delta*(Rf**2))**0.5)/(Delta*(Rf - Rmv))"
   ]
  },
  {
   "cell_type": "code",
   "execution_count": 33,
   "metadata": {
    "scrolled": false
   },
   "outputs": [
    {
     "data": {
      "image/png": "[encoded data removed]",
      "text/plain": [
       "<Figure size 864x576 with 1 Axes>"
      ]
     },
     "metadata": {
      "needs_background": "light"
     },
     "output_type": "display_data"
    }
   ],
   "source": [
    "plt.figure(figsize=(12,8))\n",
    "\n",
    "plt.plot(std_tg, Rtg, \"*\", color = \"red\", label = \"Tangency Portfolio\")\n",
    "plt.plot(std_1, R_1, label = \"Effecient Frontier With Riskless Assets\") # With Riskless Assets\n",
    "plt.plot(list_of_std, list_of_Rp, label = \"Minimum Variance Frontier Without Riskless Assets\") # Without Riskless Assets\n",
    "plt.plot(list_of_Std_Bottom, Rp_array_bottom, \"--\", color = \"white\") # Lowerbound of the Frontier\n",
    "\n",
    "plt.title(\"Minimum-Tracking-Error Frontier\", fontsize = 20)\n",
    "plt.xlabel(\"Tracking error\", fontsize = 20)\n",
    "plt.ylabel(\"Expected return deviation\", fontsize = 20)\n",
    "#plt.legend(fontsize = 12)\n",
    "plt.grid()\n",
    "plt.show()"
   ]
  },
  {
   "cell_type": "code",
   "execution_count": null,
   "metadata": {},
   "outputs": [],
   "source": []
  },
  {
   "cell_type": "markdown",
   "metadata": {},
   "source": [
    "### Part 2: Hansen–Jagannathan Bound"
   ]
  },
  {
   "cell_type": "code",
   "execution_count": 34,
   "metadata": {},
   "outputs": [],
   "source": [
    "# Simulate 𝜺 with 10^4 random draws from a standard normal distribution\n",
    "mu, sigma = 0, 1 # mean and standard deviation\n",
    "e = np.random.normal(mu, sigma, 10**4)"
   ]
  },
  {
   "cell_type": "code",
   "execution_count": 35,
   "metadata": {},
   "outputs": [],
   "source": [
    "# Simulate 𝝂 with 10^4 random draws from a standard uniform distribution. \n",
    "random_probability = np.random.random(10**4)\n",
    "\n",
    "v = np.zeros(10**4)\n",
    "\n",
    "for i in np.arange(10**4):\n",
    "    if random_probability[i] <= 0.017:\n",
    "        v[i] = np.log(0.65)"
   ]
  },
  {
   "cell_type": "code",
   "execution_count": 36,
   "metadata": {},
   "outputs": [],
   "source": [
    "ln_g = 0.02 + 0.02*e + v"
   ]
  },
  {
   "cell_type": "code",
   "execution_count": 37,
   "metadata": {},
   "outputs": [],
   "source": [
    "g = np.exp(ln_g)"
   ]
  },
  {
   "cell_type": "code",
   "execution_count": 38,
   "metadata": {},
   "outputs": [],
   "source": [
    "gamma = np.arange(1,4.005,0.005)"
   ]
  },
  {
   "cell_type": "code",
   "execution_count": 39,
   "metadata": {},
   "outputs": [],
   "source": [
    "mean_M = []\n",
    "std_M = []\n",
    "ratios = []\n",
    "for i in gamma:\n",
    "    M = 0.99 * (g**(-i))\n",
    "    ratio = M.std() / M.mean()\n",
    "    ratios.append(ratio)\n",
    "    mean_M.append(M.mean())\n",
    "    std_M.append(M.std())\n",
    "# ratio = [std / mean for std, mean in zip(std_M, mean_M)]"
   ]
  },
  {
   "cell_type": "code",
   "execution_count": 40,
   "metadata": {},
   "outputs": [],
   "source": [
    "Hansen_J = pd.DataFrame([gamma, ratios]).T"
   ]
  },
  {
   "cell_type": "code",
   "execution_count": 41,
   "metadata": {},
   "outputs": [],
   "source": [
    "Hansen_J.columns = ([\"Gamma\",\"Ratios\"])"
   ]
  },
  {
   "cell_type": "code",
   "execution_count": 42,
   "metadata": {},
   "outputs": [],
   "source": [
    "Minimum_Gamma = Hansen_J[Hansen_J[\"Ratios\"]>0.4].head(1)"
   ]
  },
  {
   "cell_type": "code",
   "execution_count": 43,
   "metadata": {},
   "outputs": [
    {
     "data": {
      "text/html": [
       "<div>\n",
       "<style scoped>\n",
       "    .dataframe tbody tr th:only-of-type {\n",
       "        vertical-align: middle;\n",
       "    }\n",
       "\n",
       "    .dataframe tbody tr th {\n",
       "        vertical-align: top;\n",
       "    }\n",
       "\n",
       "    .dataframe thead th {\n",
       "        text-align: right;\n",
       "    }\n",
       "</style>\n",
       "<table border=\"1\" class=\"dataframe\">\n",
       "  <thead>\n",
       "    <tr style=\"text-align: right;\">\n",
       "      <th></th>\n",
       "      <th>Gamma</th>\n",
       "      <th>Ratios</th>\n",
       "    </tr>\n",
       "  </thead>\n",
       "  <tbody>\n",
       "    <tr>\n",
       "      <th>456</th>\n",
       "      <td>3.28</td>\n",
       "      <td>0.400491</td>\n",
       "    </tr>\n",
       "  </tbody>\n",
       "</table>\n",
       "</div>"
      ],
      "text/plain": [
       "     Gamma    Ratios\n",
       "456   3.28  0.400491"
      ]
     },
     "execution_count": 43,
     "metadata": {},
     "output_type": "execute_result"
    }
   ],
   "source": [
    "Minimum_Gamma"
   ]
  },
  {
   "cell_type": "code",
   "execution_count": 44,
   "metadata": {},
   "outputs": [
    {
     "data": {
      "image/png": "[encoded data removed]",
      "text/plain": [
       "<Figure size 576x360 with 1 Axes>"
      ]
     },
     "metadata": {
      "needs_background": "light"
     },
     "output_type": "display_data"
    }
   ],
   "source": [
    "plt.figure(figsize = (8,5))\n",
    "plt.plot(Hansen_J[\"Gamma\"],Hansen_J[\"Ratios\"]) # With Riskless Assets\n",
    "plt.scatter(Minimum_Gamma[\"Gamma\"],Minimum_Gamma[\"Ratios\"], color = \"red\", label = 'minimum gamma')\n",
    "\n",
    "plt.title(\"Hansen–Jagannathan Bound\", fontsize = 20)\n",
    "plt.xlabel(\"Gamma\", fontsize = 20)\n",
    "plt.ylabel(\"SD(M)/E(M) Ratio\", fontsize = 20)\n",
    "plt.grid(True)\n",
    "plt.legend(fontsize = 12)\n",
    "plt.show()"
   ]
  },
  {
   "cell_type": "code",
   "execution_count": null,
   "metadata": {},
   "outputs": [],
   "source": []
  },
  {
   "cell_type": "code",
   "execution_count": null,
   "metadata": {},
   "outputs": [],
   "source": []
  }
 ],
 "metadata": {
  "kernelspec": {
   "display_name": "Python 3",
   "language": "python",
   "name": "python3"
  },
  "language_info": {
   "codemirror_mode": {
    "name": "ipython",
    "version": 3
   },
   "file_extension": ".py",
   "mimetype": "text/x-python",
   "name": "python",
   "nbconvert_exporter": "python",
   "pygments_lexer": "ipython3",
   "version": "3.8.3"
  }
 },
 "nbformat": 4,
 "nbformat_minor": 4
}
